{
 "cells": [
  {
   "cell_type": "code",
   "execution_count": 2,
   "metadata": {},
   "outputs": [
    {
     "name": "stdout",
     "output_type": "stream",
     "text": [
      "The autoreload extension is already loaded. To reload it, use:\n",
      "  %reload_ext autoreload\n"
     ]
    }
   ],
   "source": [
    "from text_summarizer import Summarizer\n",
    "from keyword_extractor import Extractor\n",
    "\n",
    "from utils import summarizer_evaluation\n",
    "\n",
    "# for auto-reloading external modules\n",
    "%load_ext autoreload\n",
    "%autoreload 2"
   ]
  },
  {
   "cell_type": "code",
   "execution_count": 3,
   "metadata": {},
   "outputs": [
    {
     "name": "stdout",
     "output_type": "stream",
     "text": [
      "\n",
      "Content:\n",
      " Hewitt overcomes wobble in Sydney\n",
      "\n",
      "Lleyton Hewitt gave himself the perfect preparation for next week's Australian Open with victory over Ivo Minar in the final of the Sydney International.\n",
      "\n",
      "The defending champion brushed aside the Czech qualifier 7-5 6-0. The Australian world number three strolled to the first five games of the match but was shocked as Minar won the next five. The top seed was rattled but recovered to close out the set and raced to victory in exactly an hour. \"It was a strange match . . . momentum swings,\" said Hewitt. \"I felt like I came out of the blocks extremely well, but then he loosened up a bit. \"When he got back to 5-5, I had to try to settle down and take it up a notch, and I was able to do that.\"\n",
      "\n",
      "Hewitt has now lifted the Sydney title four times in the last six years. \"It just keeps getting better and better every year,\" Hewitt said. \"I've only played this tournament four times and I've won it four times.\" Hewitt went into the final as a short-priced favourite to clinch his 24th career title after dropping only one set all week. He is set to meet Frenchman Arnaud Clement in the first round of the Australian Open. Minar, ranked 158th in the world, was forced to pull out of the Australian Open qualifying draw to play in his first ATP final. \"For me, this was a big success,\" said the 20-year-old. \"I was so nervous last night I couldn't sleep. I've never played a top-10 player before. \"I wanted to play qualifying in Melbourne, but it's Saturday and I'm still here. But this is a main draw and I need the points and the money.\" Alicia Molik takes on Samantha Stosur in an all-Australian women's final later on Saturday.\n",
      "\n",
      "\n",
      "Summary:\n",
      " Hewitt overcomes wobble in Sydney\n",
      "\n",
      "Lleyton Hewitt gave himself the perfect preparation for next week's Australian Open with victory over Ivo Minar in the final of the Sydney International. The Australian world number three strolled to the first five games of the match but was shocked as Minar won the next five. Hewitt has now lifted the Sydney title four times in the last six years. \"It just keeps getting better and better every year,\" Hewitt said. Hewitt went into the final as a short-priced favourite to clinch his 24th career title after dropping only one set all week. Minar, ranked 158th in the world, was forced to pull out of the Australian Open qualifying draw to play in his first ATP final.\n",
      "\n",
      "keywords: ['Australian', 'final', 'Hewitt', 'Open', 'Minar', 'week', 'victory', 'Sydney', 'world', 'set', 'title', 'draw', 'Ivo', 'times', 'qualifying']\n"
     ]
    }
   ],
   "source": [
    "# Demo.\n",
    "file_folder = \"datasets/BBC_News_Summary/News_Articles/\"\n",
    "topic_ = \"sport/\"\n",
    "doc_ = \"450.txt\"\n",
    "data_path = file_folder + topic_ + doc_\n",
    "\n",
    "# Read content from file\n",
    "content = open(data_path).read()\n",
    "\n",
    "# Summarize content.\n",
    "ratio = 0.3\n",
    "text_summarizer = Summarizer(ratio=ratio, damp=0.85, epsi=0.0001)\n",
    "summary = text_summarizer.summarize(content)\n",
    "\n",
    "# Extract keywords.\n",
    "window_size = 6\n",
    "num_words = 15\n",
    "keyword_extractor = Extractor(window_size=window_size, num_words=num_words,\n",
    "                              damp=0.85, epsi=0.0001)\n",
    "candidate_pos = [\"NOUN\", \"ADJ\", \"PROPN\"]\n",
    "keywords = keyword_extractor.extract(content, candidate_pos)\n",
    "\n",
    "print(\"\\nContent:\\n\", content)\n",
    "print(\"\\nSummary:\\n\", summary)\n",
    "print(\"\\nkeywords:\", keywords)"
   ]
  },
  {
   "cell_type": "code",
   "execution_count": 4,
   "metadata": {},
   "outputs": [
    {
     "name": "stdout",
     "output_type": "stream",
     "text": [
      "\n",
      "Evaluation using the standard sentence similarity function:\n",
      "\n",
      "Rouge N score using 4-grams: 0.446\n",
      "BLEU score using n-grams length up to N = 6: 0.826\n"
     ]
    }
   ],
   "source": [
    "# Evaluate Summarizer score on the entire BBC News Summaries corpus data.\n",
    "data_path = \"datasets/BBC_News_Summary\"\n",
    "ratio = 0.25\n",
    "text_summarizer = Summarizer(ratio=ratio, damp=0.85, epsi=0.0001)\n",
    "\n",
    "rougeN = 4\n",
    "maxN = 6\n",
    "rouge_score, bleu_score = summarizer_evaluation(text_summarizer, data_path,\n",
    "                                                rougeN=rougeN, maxN=maxN)\n",
    "\n",
    "print(\"\\nEvaluation using the standard sentence similarity function:\\n\")\n",
    "print(\"Rouge N score using %d-grams: %.3f\" %(rougeN, rouge_score))\n",
    "print(\"BLEU score using n-grams length up to N = %d: %.3f\" % (maxN, bleu_score))"
   ]
  }
 ],
 "metadata": {
  "kernelspec": {
   "display_name": "Python 3",
   "language": "python",
   "name": "python3"
  },
  "language_info": {
   "codemirror_mode": {
    "name": "ipython",
    "version": 3
   },
   "file_extension": ".py",
   "mimetype": "text/x-python",
   "name": "python",
   "nbconvert_exporter": "python",
   "pygments_lexer": "ipython3",
   "version": "3.7.7"
  }
 },
 "nbformat": 4,
 "nbformat_minor": 4
}
